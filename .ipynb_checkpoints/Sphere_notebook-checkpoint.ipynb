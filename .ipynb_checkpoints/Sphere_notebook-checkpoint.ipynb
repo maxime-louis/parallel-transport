{
 "cells": [
  {
   "cell_type": "code",
   "execution_count": null,
   "metadata": {
    "collapsed": true
   },
   "outputs": [],
   "source": []
  },
  {
   "cell_type": "code",
   "execution_count": null,
   "metadata": {
    "collapsed": true
   },
   "outputs": [],
   "source": []
  },
  {
   "cell_type": "code",
   "execution_count": 16,
   "metadata": {
    "collapsed": false
   },
   "outputs": [
    {
     "data": {
      "text/html": [
       "<script>requirejs.config({paths: { 'plotly': ['https://cdn.plot.ly/plotly-latest.min']},});if(!window.Plotly) {{require(['plotly'],function(plotly) {window.Plotly=plotly;});}}</script>"
      ],
      "text/plain": [
       "<IPython.core.display.HTML object>"
      ]
     },
     "metadata": {},
     "output_type": "display_data"
    },
    {
     "name": "stdout",
     "output_type": "stream",
     "text": [
      "Lauching computation with epsilon : 0.01 delta : 0.01 number_of_time_steps :  100\n",
      "Estimated :  [-1.15568977 -1.2373258  -0.24072329] Exact : [-1.06599684 -1.0506352  -0.1683259 ]\n"
     ]
    },
    {
     "ename": "TypeError",
     "evalue": "render_sphere() missing 1 required positional argument: 'pwtraj'",
     "output_type": "error",
     "traceback": [
      "\u001b[0;31m---------------------------------------------------------------------------\u001b[0m",
      "\u001b[0;31mTypeError\u001b[0m                                 Traceback (most recent call last)",
      "\u001b[0;32m<ipython-input-16-3671f5ed9057>\u001b[0m in \u001b[0;36m<module>\u001b[0;34m()\u001b[0m\n\u001b[1;32m    114\u001b[0m \u001b[0mprint\u001b[0m\u001b[0;34m(\u001b[0m\u001b[0;34m\"Estimated : \"\u001b[0m\u001b[0;34m,\u001b[0m \u001b[0mpwtraj3D\u001b[0m\u001b[0;34m,\u001b[0m \u001b[0;34m\"Exact :\"\u001b[0m\u001b[0;34m,\u001b[0m \u001b[0mtruepw3D\u001b[0m\u001b[0;34m)\u001b[0m\u001b[0;34m\u001b[0m\u001b[0m\n\u001b[1;32m    115\u001b[0m \u001b[0;34m\u001b[0m\u001b[0m\n\u001b[0;32m--> 116\u001b[0;31m \u001b[0mrs\u001b[0m\u001b[0;34m.\u001b[0m\u001b[0mrender_sphere\u001b[0m\u001b[0;34m(\u001b[0m\u001b[0mxtraj\u001b[0m\u001b[0;34m,\u001b[0m \u001b[0mpwtraj\u001b[0m\u001b[0;34m)\u001b[0m\u001b[0;34m\u001b[0m\u001b[0m\n\u001b[0m\u001b[1;32m    117\u001b[0m \u001b[0;34m\u001b[0m\u001b[0m\n\u001b[1;32m    118\u001b[0m \u001b[0;34m\u001b[0m\u001b[0m\n",
      "\u001b[0;31mTypeError\u001b[0m: render_sphere() missing 1 required positional argument: 'pwtraj'"
     ]
    }
   ],
   "source": [
    "# -*- coding: utf-8 -*-\n",
    "import numpy as np\n",
    "import render_sphere as rs\n",
    "import matplotlib.pyplot as plt\n",
    "from plotly import __version__\n",
    "import plotly.plotly as py\n",
    "import plotly.graph_objs as go\n",
    "from plotly.offline import download_plotlyjs, init_notebook_mode, plot, iplot\n",
    "init_notebook_mode(connected=True)\n",
    "\n",
    "#For the sphere x = [theta, phi]\n",
    "\n",
    "def norm(x,w):\n",
    "    return w[0]**2 + np.sin(x[0])**2. * w[1]**2.\n",
    "\n",
    "def metric(x,v,w):\n",
    "    return w[0]*v[0] + np.sin(x[0])**2. * w[1]*v[1]\n",
    "\n",
    "def co_vector_from_vector(x, w):\n",
    "  #Here for the sphere :\n",
    "  metric = [[1.,0.], [0., np.sin(x[0])**2.]]\n",
    "  return np.matmul(metric, w)\n",
    "\n",
    "def vector_from_co_vector(x, alpha):\n",
    "    inversemetric = [[1., 0.],[0., 1./np.sin(x[0])**2]]\n",
    "    return np.matmul(inversemetric, alpha)\n",
    "\n",
    "def hamiltonian_equation(x, alpha):\n",
    "  if (abs(np.sin(x[0])) < 1e-20):\n",
    "    raise ValueError(\"Cannot handle the poles of the sphere\")\n",
    "  Fx = np.array([alpha[0], alpha[1]/np.sin(x[0])**2]) #this is g_{ab} alpha^b\n",
    "  Falpha = np.array([np.cos(x[0])/np.sin(x[0])**3. * alpha[1]**2., 0.])\n",
    "  return Fx, Falpha\n",
    "\n",
    "def parallel_transport(x, alpha, w, number_of_time_steps):\n",
    "    dimension = len(x) #Dimension of the manifold\n",
    "    delta = 1./number_of_time_steps\n",
    "    epsilon = delta\n",
    "\n",
    "    #To store the computed values of trajectory and transport\n",
    "    xtraj = np.zeros((number_of_time_steps+1, dimension))\n",
    "    pwtraj = np.zeros((number_of_time_steps+1, dimension))\n",
    "    alphatraj = np.zeros((number_of_time_steps+1, dimension))\n",
    "    #initialisation\n",
    "    xtraj[0] = x\n",
    "    alphatraj[0] = alpha\n",
    "    pwtraj[0] = w\n",
    "    initialNorm = np.sqrt(norm(x,w))\n",
    "    initialCrossProductWithVelocity = metric(x,v,w)\n",
    "    RK_Steps = [0.5, 1]\n",
    "    time  = 0.\n",
    "    print(\"Lauching computation with epsilon :\", epsilon, \"delta :\", delta, \"number_of_time_steps : \", number_of_time_steps)\n",
    "\n",
    "    for k in range(number_of_time_steps):\n",
    "        time = time + delta\n",
    "        xcurr = xtraj[k]\n",
    "        alphacurr = alphatraj[k]\n",
    "\n",
    "        #Compute the position of the next point on the geodesic\n",
    "        for i,step in enumerate(RK_Steps):\n",
    "            Fx, Falpha = hamiltonian_equation(xcurr, alphacurr)\n",
    "            xcurr = xtraj[k] + step * delta * Fx\n",
    "            alphacurr = alphatraj[k] + step * delta * Falpha\n",
    "\n",
    "        #Co-vector of w_k : g^{ab} w_b\n",
    "        betacurr = co_vector_from_vector(xtraj[k], pwtraj[k])\n",
    "        perturbations = [1,-1]\n",
    "        Weights = [0.5, -0.5]\n",
    "        Jacobi = np.zeros(2)\n",
    "        #For each perturbation, compute the perturbed geodesic\n",
    "        for i, pert in enumerate(perturbations):\n",
    "            alphaPk = alphatraj[k] + pert * epsilon * betacurr\n",
    "            alphaPerturbed = alphaPk\n",
    "            xPerturbed = xtraj[k]\n",
    "            for step in RK_Steps:\n",
    "                Fx, Falpha = hamiltonian_equation(xPerturbed, alphaPerturbed)\n",
    "                xPerturbed = xtraj[k] + step * delta * Fx\n",
    "                alphaPerturbed = alphaPk + step * delta * Falpha\n",
    "            #Update the estimate\n",
    "            Jacobi = Jacobi + Weights[i] * xPerturbed\n",
    "        pwtraj[k+1] = Jacobi / (epsilon * delta)\n",
    "        xtraj[k+1] = xcurr\n",
    "        alphatraj[k+1] = alphacurr;\n",
    "    return xtraj, alphatraj, pwtraj\n",
    "\n",
    "def plot_norm(x, w):\n",
    "    norms = [norm(x[i], w[i]) for i in range(len(xtraj))]\n",
    "    plt.plot(norms)\n",
    "    plt.show()\n",
    "\n",
    "\n",
    "x = np.array([0.5,-1.])\n",
    "x3D = rs.localChartTo3D(x)\n",
    "direction = np.array([1,0.5])\n",
    "v = np.pi * direction /np.sqrt(np.dot(direction,co_vector_from_vector(x,direction)))\n",
    "alpha = co_vector_from_vector(x, v)\n",
    "w = [alpha[1], -alpha[0]]\n",
    "\n",
    "w3D = rs.chartVelocityTo3D(x, w)\n",
    "v3D = rs.chartVelocityTo3D(x,v)\n",
    "\n",
    "#true endpoint and parallel vector\n",
    "n = np.linalg.norm(v3D)\n",
    "x3DFinal = np.cos(n)*x3D + np.sin(n) * v3D/n\n",
    "v3DFinal = -np.sin(n)* n * x3DFinal + np.cos(n) * v3D\n",
    "\n",
    "proj = np.dot(v3D,w3D)/np.dot(v3D, v3D)\n",
    "projOrtho = np.dot(np.cross(x3D,v3D), w3D)/np.dot(v3D,v3D)\n",
    "truepw3D = proj * v3DFinal + projOrtho*np.cross(x3D, v3D)\n",
    "\n",
    "nbSteps = 100\n",
    "xtraj, alphatraj, pwtraj = parallel_transport(x, alpha, w, nbSteps)\n",
    "pwtraj3D = rs.chartVelocityTo3D(xtraj[-1], pwtraj[-1])\n",
    "print(\"Estimated : \", pwtraj3D, \"Exact :\", truepw3D)\n",
    "\n",
    "rs.render_sphere(xtraj, pwtraj)\n",
    "\n",
    "\n",
    "\n",
    "\n"
   ]
  },
  {
   "cell_type": "code",
   "execution_count": null,
   "metadata": {
    "collapsed": true
   },
   "outputs": [],
   "source": []
  },
  {
   "cell_type": "code",
   "execution_count": null,
   "metadata": {
    "collapsed": true
   },
   "outputs": [],
   "source": []
  }
 ],
 "metadata": {
  "anaconda-cloud": {},
  "kernelspec": {
   "display_name": "Python [conda root]",
   "language": "python",
   "name": "conda-root-py"
  },
  "language_info": {
   "codemirror_mode": {
    "name": "ipython",
    "version": 3
   },
   "file_extension": ".py",
   "mimetype": "text/x-python",
   "name": "python",
   "nbconvert_exporter": "python",
   "pygments_lexer": "ipython3",
   "version": "3.5.2"
  }
 },
 "nbformat": 4,
 "nbformat_minor": 1
}
